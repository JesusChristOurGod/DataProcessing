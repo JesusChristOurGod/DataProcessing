{
 "cells": [
  {
   "cell_type": "code",
   "execution_count": 8,
   "metadata": {
    "collapsed": true
   },
   "outputs": [],
   "source": [
    "%matplotlib inline\n",
    "from skimage.io import imread, imshow\n",
    "from skimage import img_as_float, img_as_ubyte\n",
    "from matplotlib.pyplot import hist\n",
    "import numpy as np"
   ]
  },
  {
   "cell_type": "code",
   "execution_count": null,
   "outputs": [
    {
     "data": {
      "text/plain": "<matplotlib.image.AxesImage at 0x150130ca0>"
     },
     "execution_count": 9,
     "metadata": {},
     "output_type": "execute_result"
    }
   ],
   "source": [
    "img = imread('railroad.png')\n",
    "imshow(img)"
   ],
   "metadata": {
    "collapsed": false,
    "pycharm": {
     "is_executing": true
    }
   }
  },
  {
   "cell_type": "code",
   "execution_count": 10,
   "outputs": [],
   "source": [
    "img = img_as_float(img)"
   ],
   "metadata": {
    "collapsed": false
   }
  },
  {
   "cell_type": "code",
   "execution_count": 11,
   "outputs": [],
   "source": [
    "r = img[:,:,0]\n",
    "g = img[:,:,1]\n",
    "b = img[:,:,2]"
   ],
   "metadata": {
    "collapsed": false
   }
  },
  {
   "cell_type": "code",
   "execution_count": 12,
   "outputs": [
    {
     "data": {
      "text/plain": "(0.6931049859943978, 0.7095498623797342, 0.8206444330775792)"
     },
     "execution_count": 12,
     "metadata": {},
     "output_type": "execute_result"
    }
   ],
   "source": [
    "r_ = r.mean()\n",
    "g_=g.mean()\n",
    "b_=b.mean()\n",
    "r_, g_, b_"
   ],
   "metadata": {
    "collapsed": false
   }
  },
  {
   "cell_type": "code",
   "execution_count": 13,
   "outputs": [],
   "source": [
    "avg = (r_+g_+b_)/3\n",
    "rw=r_/avg\n",
    "gw=g_/avg\n",
    "bw=b_/avg"
   ],
   "metadata": {
    "collapsed": false
   }
  },
  {
   "cell_type": "code",
   "execution_count": 17,
   "outputs": [],
   "source": [
    "r = np.clip(r/rw,0,1)\n",
    "g = np.clip(g/gw,0,1)\n",
    "b=np.clip(b/bw,0,1)\n"
   ],
   "metadata": {
    "collapsed": false
   }
  },
  {
   "cell_type": "code",
   "execution_count": 18,
   "outputs": [
    {
     "data": {
      "text/plain": "array([[[112, 215, 182],\n        [120, 213, 181],\n        [117, 215, 188],\n        ...,\n        [107, 195, 183],\n        [103, 196, 183],\n        [ 96, 193, 182]],\n\n       [[102, 215, 181],\n        [115, 214, 181],\n        [121, 215, 188],\n        ...,\n        [111, 193, 183],\n        [103, 191, 183],\n        [ 93, 193, 181]],\n\n       [[114, 215, 182],\n        [128, 217, 181],\n        [155, 212, 188],\n        ...,\n        [131, 187, 183],\n        [131, 191, 183],\n        [114, 194, 182]],\n\n       ...,\n\n       [[160, 163, 180],\n        [190, 165, 181],\n        [153, 140, 187],\n        ...,\n        [118, 158, 182],\n        [114, 153, 181],\n        [133, 137, 181]],\n\n       [[168, 123, 181],\n        [160, 130, 180],\n        [135, 130, 187],\n        ...,\n        [141, 166, 182],\n        [126, 165, 181],\n        [152, 158, 182]],\n\n       [[129,  95, 181],\n        [123, 123, 180],\n        [126, 123, 188],\n        ...,\n        [133, 160, 182],\n        [113, 165, 183],\n        [118, 161, 183]]], dtype=uint8)"
     },
     "execution_count": 18,
     "metadata": {},
     "output_type": "execute_result"
    }
   ],
   "source": [
    "img = np.dstack((r,g,b))\n",
    "img = img_as_ubyte(img)\n",
    "img"
   ],
   "metadata": {
    "collapsed": false
   }
  },
  {
   "cell_type": "code",
   "execution_count": null,
   "outputs": [
    {
     "data": {
      "text/plain": "<matplotlib.image.AxesImage at 0x157ceb280>"
     },
     "execution_count": 20,
     "metadata": {},
     "output_type": "execute_result"
    }
   ],
   "source": [
    "imshow(img)"
   ],
   "metadata": {
    "collapsed": false,
    "pycharm": {
     "is_executing": true
    }
   }
  },
  {
   "cell_type": "code",
   "execution_count": null,
   "outputs": [],
   "source": [],
   "metadata": {
    "collapsed": false
   }
  }
 ],
 "metadata": {
  "kernelspec": {
   "display_name": "Python 3",
   "language": "python",
   "name": "python3"
  },
  "language_info": {
   "codemirror_mode": {
    "name": "ipython",
    "version": 2
   },
   "file_extension": ".py",
   "mimetype": "text/x-python",
   "name": "python",
   "nbconvert_exporter": "python",
   "pygments_lexer": "ipython2",
   "version": "2.7.6"
  }
 },
 "nbformat": 4,
 "nbformat_minor": 0
}
