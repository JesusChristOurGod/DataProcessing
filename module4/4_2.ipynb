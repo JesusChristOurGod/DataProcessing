{
 "cells": [
  {
   "cell_type": "code",
   "execution_count": 4,
   "metadata": {
    "collapsed": true
   },
   "outputs": [],
   "source": [
    "import math\n",
    "import numpy as np"
   ]
  },
  {
   "cell_type": "code",
   "execution_count": 2,
   "outputs": [],
   "source": [
    "def gauss(sig, x, y):\n",
    "    lower = 2*math.pi*sig*sig\n",
    "    deg = (-x*x-y*y)/(2*sig*sig)\n",
    "    return pow(math.e, deg)/lower\n"
   ],
   "metadata": {
    "collapsed": false
   }
  },
  {
   "cell_type": "code",
   "execution_count": 3,
   "outputs": [
    {
     "data": {
      "text/plain": "0.05854983152431917"
     },
     "execution_count": 3,
     "metadata": {},
     "output_type": "execute_result"
    }
   ],
   "source": [
    "gauss(1,1,1)"
   ],
   "metadata": {
    "collapsed": false
   }
  },
  {
   "cell_type": "code",
   "execution_count": 37,
   "outputs": [
    {
     "name": "stdout",
     "output_type": "stream",
     "text": [
      "[[9.87532107e-05 9.73995858e-03 9.87532107e-05]\n",
      " [9.73995858e-03 9.60645153e-01 9.73995858e-03]\n",
      " [9.87532107e-05 9.73995858e-03 9.87532107e-05]]\n",
      "0.0001 0.0097 0.0001\n",
      "0.0097 0.9606 0.0097\n",
      "0.0001 0.0097 0.0001\n"
     ]
    }
   ],
   "source": [
    "def gauss_kernel(sig):\n",
    "    k = round(6*sig+1)\n",
    "    kernel = np.ones((k,k))\n",
    "    for i in range(len(kernel)):\n",
    "        for j in range(len(kernel[0])):\n",
    "            kernel[i][j] = gauss(sig, i-k//2, j-k//2)\n",
    "    return  kernel/kernel.sum()\n",
    "print(gauss_kernel(0.33))\n",
    "k = gauss_kernel(0.33)\n",
    "for i in range(len(k)):\n",
    "    for j in range(len(k[0])):\n",
    "        e = \" \" if j!=len(k)-1 else \"\\n\"\n",
    "        print(round(k[i][j], 4), end=e)"
   ],
   "metadata": {
    "collapsed": false
   }
  },
  {
   "cell_type": "code",
   "execution_count": 16,
   "outputs": [
    {
     "data": {
      "text/plain": "array([[9.87532107e-05, 9.73995858e-03, 9.87532107e-05],\n       [9.73995858e-03, 9.60645153e-01, 9.73995858e-03],\n       [9.87532107e-05, 9.73995858e-03, 9.87532107e-05]])"
     },
     "execution_count": 16,
     "metadata": {},
     "output_type": "execute_result"
    }
   ],
   "source": [
    "n = 3\n",
    "arr = np.zeros((n,n))\n",
    "\n",
    "# calculate the indices of the center of the array\n",
    "center = n//2\n",
    "\n",
    "# create a 2D Gaussian kernel centered at the middle of the array\n",
    "sigma = 0.33\n",
    "kernel = np.zeros((n,n))\n",
    "for i in range(n):\n",
    "    for j in range(n):\n",
    "        x = i - center\n",
    "        y = j - center\n",
    "        kernel[i,j] = np.exp(-(x**2 + y**2)/(2*sigma**2))\n",
    "kernel /= kernel.sum()\n",
    "\n",
    "kernel"
   ],
   "metadata": {
    "collapsed": false
   }
  },
  {
   "cell_type": "code",
   "execution_count": 8,
   "outputs": [
    {
     "name": "stdout",
     "output_type": "stream",
     "text": [
      "1.0\n"
     ]
    }
   ],
   "source": [
    "arr = np.zeros((7,7))\n",
    "arr[-3, 3] = 1\n",
    "# access the top left corner relative to the center\n",
    "top_left = arr[-3, 3]\n",
    "\n",
    "print(top_left)"
   ],
   "metadata": {
    "collapsed": false
   }
  },
  {
   "cell_type": "code",
   "execution_count": 38,
   "outputs": [],
   "source": [
    "from skimage.io import imread, imshow\n",
    "from skimage import img_as_float, img_as_ubyte\n",
    "from scipy.signal import convolve2d\n",
    "import numpy as np"
   ],
   "metadata": {
    "collapsed": false
   }
  },
  {
   "cell_type": "code",
   "execution_count": 52,
   "outputs": [
    {
     "data": {
      "text/plain": "254"
     },
     "execution_count": 52,
     "metadata": {},
     "output_type": "execute_result"
    }
   ],
   "source": [
    "img = imread('tiger-gray-small.png')\n",
    "filter = gauss_kernel(0.66)\n",
    "res_img = convolve2d(img, filter, mode=\"valid\")\n",
    "res_img = (res_img).astype(int)\n",
    "res_img.max()"
   ],
   "metadata": {
    "collapsed": false
   }
  },
  {
   "cell_type": "code",
   "execution_count": 44,
   "outputs": [
    {
     "data": {
      "text/plain": "25"
     },
     "execution_count": 44,
     "metadata": {},
     "output_type": "execute_result"
    }
   ],
   "source": [
    "filter.size"
   ],
   "metadata": {
    "collapsed": false
   }
  },
  {
   "cell_type": "code",
   "execution_count": 53,
   "outputs": [
    {
     "data": {
      "text/plain": "True"
     },
     "execution_count": 53,
     "metadata": {},
     "output_type": "execute_result"
    }
   ],
   "source": [
    "tg = imread('gaussian-tiger.png')\n",
    "np.array_equal(tg, res_img)"
   ],
   "metadata": {
    "collapsed": false
   }
  },
  {
   "cell_type": "code",
   "execution_count": 75,
   "outputs": [],
   "source": [
    "kernel = np.array([[-1, -2, -1], [-2, 22, -2], [-1, -2, -1]])\n",
    "img = imread('tiger-gray-small.png')\n",
    "res_img = convolve2d(img, kernel, mode=\"valid\")/10\n",
    "res_img = res_img.astype('uint8')\n",
    "# res_img= np.clip(res_img, 0, 255).astype(int)\n",
    "# np.array_equal(res_img, imread('unsharp-tiger.png'))"
   ],
   "metadata": {
    "collapsed": false
   }
  },
  {
   "cell_type": "code",
   "execution_count": 76,
   "outputs": [
    {
     "data": {
      "text/plain": "array([[ 34,  37,  37, ...,   3,   0,   2],\n       [ 35,  37,  38, ...,   5,   1,   2],\n       [ 33,  42,  43, ...,   4,   2,   1],\n       ...,\n       [173, 188, 150, ..., 116, 123, 108],\n       [152, 148, 129, ..., 108, 120, 103],\n       [ 85,  74,  72, ..., 119, 111, 131]], dtype=uint8)"
     },
     "execution_count": 76,
     "metadata": {},
     "output_type": "execute_result"
    }
   ],
   "source": [
    "tg = imread('unsharp-tiger.png')\n",
    "tg"
   ],
   "metadata": {
    "collapsed": false
   }
  },
  {
   "cell_type": "code",
   "execution_count": 77,
   "outputs": [
    {
     "data": {
      "text/plain": "False"
     },
     "execution_count": 77,
     "metadata": {},
     "output_type": "execute_result"
    }
   ],
   "source": [
    "np.array_equal(tg, res_img)"
   ],
   "metadata": {
    "collapsed": false
   }
  },
  {
   "cell_type": "code",
   "execution_count": 80,
   "outputs": [
    {
     "data": {
      "text/plain": "array([[ 41.,  41.,  41., ...,   4.,   4.,   3.],\n       [ 41.,  41.,  41., ...,   4.,   4.,   4.],\n       [ 41.,  41.,  41., ...,   6.,   5.,   5.],\n       ...,\n       [102., 103., 103., ..., 100., 103., 103.],\n       [103., 103., 103., ..., 103., 106., 107.],\n       [111., 109., 112., ..., 104., 108., 109.]])"
     },
     "execution_count": 80,
     "metadata": {},
     "output_type": "execute_result"
    }
   ],
   "source": [
    "img = imread('tiger-gray-small.png')\n",
    "out_img = np.ones((img.shape[0], img.shape[1]))\n",
    "for i in range(3,img.shape[0]-3):\n",
    "    # проходим по столбцам\n",
    "    for j in range(3,img.shape[1]-3):\n",
    "        # вычленяем из изображения кусок 7х7\n",
    "        a = img[i-3:i+4,j-3:j+4]\n",
    "        # считаем его медиану\n",
    "        m = np.median(a)\n",
    "        # записываем в результат\n",
    "        out_img[i][j]=m\n",
    "# обрезаем результат\n",
    "out_img = out_img[3:img.shape[0]-3,3:img.shape[1]-3]\n",
    "# сохраняем\n",
    "out_img"
   ],
   "metadata": {
    "collapsed": false
   }
  },
  {
   "cell_type": "code",
   "execution_count": null,
   "outputs": [],
   "source": [],
   "metadata": {
    "collapsed": false
   }
  }
 ],
 "metadata": {
  "kernelspec": {
   "display_name": "Python 3",
   "language": "python",
   "name": "python3"
  },
  "language_info": {
   "codemirror_mode": {
    "name": "ipython",
    "version": 2
   },
   "file_extension": ".py",
   "mimetype": "text/x-python",
   "name": "python",
   "nbconvert_exporter": "python",
   "pygments_lexer": "ipython2",
   "version": "2.7.6"
  }
 },
 "nbformat": 4,
 "nbformat_minor": 0
}
